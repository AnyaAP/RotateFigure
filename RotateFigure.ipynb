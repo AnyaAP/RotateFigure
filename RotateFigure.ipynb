{
  "nbformat": 4,
  "nbformat_minor": 0,
  "metadata": {
    "colab": {
      "provenance": [],
      "authorship_tag": "ABX9TyO6jUO5wmwohlmzL8DHsge9",
      "include_colab_link": true
    },
    "kernelspec": {
      "name": "python3",
      "display_name": "Python 3"
    },
    "language_info": {
      "name": "python"
    }
  },
  "cells": [
    {
      "cell_type": "markdown",
      "metadata": {
        "id": "view-in-github",
        "colab_type": "text"
      },
      "source": [
        "<a href=\"https://colab.research.google.com/github/AnyaAP/RotateFigure/blob/main/RotateFigure.ipynb\" target=\"_parent\"><img src=\"https://colab.research.google.com/assets/colab-badge.svg\" alt=\"Open In Colab\"/></a>"
      ]
    },
    {
      "cell_type": "code",
      "execution_count": 13,
      "metadata": {
        "colab": {
          "base_uri": "https://localhost:8080/",
          "height": 641
        },
        "id": "MDP-jMQA32GF",
        "outputId": "d53329dc-b37b-4711-e20b-c656117bff79"
      },
      "outputs": [
        {
          "name": "stdout",
          "output_type": "stream",
          "text": [
            "n: 4\n",
            "x: 20\n",
            "y: 40\n",
            "x: 40\n",
            "y: 60\n",
            "x: 60\n",
            "y: 40\n",
            "x: 40\n",
            "y: 20\n",
            "x0: 40\n",
            "y0: 40\n",
            "angle: 45\n"
          ]
        },
        {
          "output_type": "display_data",
          "data": {
            "text/plain": [
              "<Figure size 640x480 with 1 Axes>"
            ],
            "image/png": "[encoded data removed]"
          },
          "metadata": {}
        }
      ],
      "source": [
        "from PIL import Image\n",
        "import matplotlib.pyplot as plt\n",
        "import math\n",
        "\n",
        "image = Image.new('RGB',(100, 100))\n",
        "\n",
        "def Bresenham(x0,y0,x1,y1,fill):\n",
        "  e=0\n",
        "  is_steep = abs(y1-y0) > abs(x1-x0)\n",
        "  if is_steep:\n",
        "    temp = x0\n",
        "    x0 = y0\n",
        "    y0 = temp\n",
        "    temp1 = x1\n",
        "    x1 = y1\n",
        "    y1 = temp1\n",
        "  if x0 > x1:\n",
        "   temp2 = x0\n",
        "   x0 = x1\n",
        "   x1 = temp2\n",
        "   temp3 = y0\n",
        "   y0 = y1\n",
        "   y1 = temp3\n",
        "  cur_y=y0\n",
        "  for i in range(x0,x1+1):\n",
        "    if is_steep:\n",
        "      image.putpixel((cur_y,i),fill)\n",
        "    else:\n",
        "      image.putpixel((i,cur_y),fill)\n",
        "    e=e+2*abs(y1-y0)\n",
        "    if e > abs(x1-x0):\n",
        "     e=e-2*abs(x1-x0)\n",
        "     if y1>y0:\n",
        "        cur_y+=1\n",
        "     elif y1<y0:\n",
        "       cur_y-=1\n",
        "     else:\n",
        "       cur_y = y0\n",
        "\n",
        "def rotate_figure(points, pivot, angle):\n",
        "    result = []\n",
        "    translated_points = [[point[0] - pivot[0], point[1] - pivot[1]] for point in points]\n",
        "    for point in translated_points:\n",
        "        x = point[0] * math.cos(math.radians(angle)) - point[1] * math.sin(math.radians(angle))\n",
        "        y = point[0] * math.sin(math.radians(angle)) + point[1] * math.cos(math.radians(angle))\n",
        "        result.append([x, y])\n",
        "    rotated_points = [[point[0] + pivot[0], point[1] + pivot[1]] for point in result]\n",
        "    for i in range(0,len(rotated_points)-1):\n",
        "      Bresenham(int(rotated_points[i][0]), int(rotated_points[i][1]), int(rotated_points[i+1][0]), int(rotated_points[i+1][1]),(0,255,0))\n",
        "    Bresenham(int(rotated_points[len(rotated_points)-1][0]), int(rotated_points[len(rotated_points)-1][1]), int(rotated_points[0][0]), int(rotated_points[0][1]),(0,255,0))\n",
        "\n",
        "if __name__ == '__main__':\n",
        "    n = int(input(\"n: \"))\n",
        "    i=0\n",
        "    points=[[0]*2 for i in range(0,n)]\n",
        "    pivot = [0, 0]\n",
        "    for i in range(0,n):\n",
        "      x=int(input(\"x: \"))\n",
        "      y=int(input(\"y: \"))\n",
        "      points[i]=(x,y)\n",
        "    pivot[0] = int(input(\"x0: \"))\n",
        "    pivot[1] = int(input(\"y0: \"))\n",
        "    angle = int(input(\"angle: \"))\n",
        "    for i in range(0,n-1):\n",
        "      Bresenham(points[i][0], points[i][1], points[i+1][0], points[i+1][1],(255,255,255))\n",
        "    Bresenham(points[n-1][0], points[n-1][1], points[0][0], points[0][1],(255,255,255))\n",
        "    rotate_figure(points, pivot, angle)\n",
        "    plt.imshow(image)"
      ]
    }
  ]
}